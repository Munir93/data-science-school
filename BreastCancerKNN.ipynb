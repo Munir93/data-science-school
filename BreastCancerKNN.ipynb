{
 "cells": [
  {
   "cell_type": "markdown",
   "metadata": {},
   "source": [
    "# KNN BREAST CANCER DIAGNOSIS "
   ]
  },
  {
   "cell_type": "code",
   "execution_count": 1,
   "metadata": {},
   "outputs": [],
   "source": [
    "import pandas as pd\n",
    "import numpy as np \n",
    "from sklearn.preprocessing import StandardScaler\n",
    "import seaborn as sns \n",
    "import matplotlib.pyplot as plt "
   ]
  },
  {
   "cell_type": "markdown",
   "metadata": {},
   "source": [
    "#Step 1 - Read data "
   ]
  },
  {
   "cell_type": "code",
   "execution_count": 14,
   "metadata": {},
   "outputs": [],
   "source": [
    "column_headings = [\"ID\",\"Result\",\"Mean_Radius\",\"Mean_Texture\",\"Mean_Perimeter\",                    #setting the names of all the columns \n",
    "                   \"Mean_Area\",\"Mean_Smoothness\",\"Mean_Compactness\", \"Mean_Concavity\",\n",
    "                   \"Mean_ConcavePoints\", \"Mean_Symmetry\",\"Mean_FractalDimension\",\n",
    "                   \"SE_Radius\",\"SE_Texture\",\"SE_Perimeter\",\"SE_Area\",\"SE_Smoothness\",\n",
    "                   \"SE_Compactness\",\"SE_Concavity\",\"SE_ConcavePoints\",\"SE_Symmetry\",\n",
    "                   \"SE_FractalDimension\",\"Worst_Radius\",\"Worst_Texture\",\"Worst_Perimeter\",\n",
    "                   \"Worst_Area\",\"Worst_Smoothness\",\"Worst_Compactness\",\"Worst_Concavity\",\n",
    "                   \"Worst_ConcavePoints\",\"Worst_Symmetry\",\"Worst_FractalDimension\"]\n",
    "\n",
    "\n",
    "data = pd.read_table('wdbc.data.txt', sep=\",\", names=column_headings)"
   ]
  },
  {
   "cell_type": "code",
   "execution_count": 15,
   "metadata": {},
   "outputs": [
    {
     "data": {
      "text/html": [
       "<div>\n",
       "<style scoped>\n",
       "    .dataframe tbody tr th:only-of-type {\n",
       "        vertical-align: middle;\n",
       "    }\n",
       "\n",
       "    .dataframe tbody tr th {\n",
       "        vertical-align: top;\n",
       "    }\n",
       "\n",
       "    .dataframe thead th {\n",
       "        text-align: right;\n",
       "    }\n",
       "</style>\n",
       "<table border=\"1\" class=\"dataframe\">\n",
       "  <thead>\n",
       "    <tr style=\"text-align: right;\">\n",
       "      <th></th>\n",
       "      <th>ID</th>\n",
       "      <th>Result</th>\n",
       "      <th>Mean_Radius</th>\n",
       "      <th>Mean_Texture</th>\n",
       "      <th>Mean_Perimeter</th>\n",
       "      <th>Mean_Area</th>\n",
       "      <th>Mean_Smoothness</th>\n",
       "      <th>Mean_Compactness</th>\n",
       "      <th>Mean_Concavity</th>\n",
       "      <th>Mean_ConcavePoints</th>\n",
       "      <th>...</th>\n",
       "      <th>Worst_Radius</th>\n",
       "      <th>Worst_Texture</th>\n",
       "      <th>Worst_Perimeter</th>\n",
       "      <th>Worst_Area</th>\n",
       "      <th>Worst_Smoothness</th>\n",
       "      <th>Worst_Compactness</th>\n",
       "      <th>Worst_Concavity</th>\n",
       "      <th>Worst_ConcavePoints</th>\n",
       "      <th>Worst_Symmetry</th>\n",
       "      <th>Worst_FractalDimension</th>\n",
       "    </tr>\n",
       "  </thead>\n",
       "  <tbody>\n",
       "    <tr>\n",
       "      <th>0</th>\n",
       "      <td>842302</td>\n",
       "      <td>M</td>\n",
       "      <td>17.99</td>\n",
       "      <td>10.38</td>\n",
       "      <td>122.80</td>\n",
       "      <td>1001.0</td>\n",
       "      <td>0.11840</td>\n",
       "      <td>0.27760</td>\n",
       "      <td>0.3001</td>\n",
       "      <td>0.14710</td>\n",
       "      <td>...</td>\n",
       "      <td>25.38</td>\n",
       "      <td>17.33</td>\n",
       "      <td>184.60</td>\n",
       "      <td>2019.0</td>\n",
       "      <td>0.1622</td>\n",
       "      <td>0.6656</td>\n",
       "      <td>0.7119</td>\n",
       "      <td>0.2654</td>\n",
       "      <td>0.4601</td>\n",
       "      <td>0.11890</td>\n",
       "    </tr>\n",
       "    <tr>\n",
       "      <th>1</th>\n",
       "      <td>842517</td>\n",
       "      <td>M</td>\n",
       "      <td>20.57</td>\n",
       "      <td>17.77</td>\n",
       "      <td>132.90</td>\n",
       "      <td>1326.0</td>\n",
       "      <td>0.08474</td>\n",
       "      <td>0.07864</td>\n",
       "      <td>0.0869</td>\n",
       "      <td>0.07017</td>\n",
       "      <td>...</td>\n",
       "      <td>24.99</td>\n",
       "      <td>23.41</td>\n",
       "      <td>158.80</td>\n",
       "      <td>1956.0</td>\n",
       "      <td>0.1238</td>\n",
       "      <td>0.1866</td>\n",
       "      <td>0.2416</td>\n",
       "      <td>0.1860</td>\n",
       "      <td>0.2750</td>\n",
       "      <td>0.08902</td>\n",
       "    </tr>\n",
       "    <tr>\n",
       "      <th>2</th>\n",
       "      <td>84300903</td>\n",
       "      <td>M</td>\n",
       "      <td>19.69</td>\n",
       "      <td>21.25</td>\n",
       "      <td>130.00</td>\n",
       "      <td>1203.0</td>\n",
       "      <td>0.10960</td>\n",
       "      <td>0.15990</td>\n",
       "      <td>0.1974</td>\n",
       "      <td>0.12790</td>\n",
       "      <td>...</td>\n",
       "      <td>23.57</td>\n",
       "      <td>25.53</td>\n",
       "      <td>152.50</td>\n",
       "      <td>1709.0</td>\n",
       "      <td>0.1444</td>\n",
       "      <td>0.4245</td>\n",
       "      <td>0.4504</td>\n",
       "      <td>0.2430</td>\n",
       "      <td>0.3613</td>\n",
       "      <td>0.08758</td>\n",
       "    </tr>\n",
       "    <tr>\n",
       "      <th>3</th>\n",
       "      <td>84348301</td>\n",
       "      <td>M</td>\n",
       "      <td>11.42</td>\n",
       "      <td>20.38</td>\n",
       "      <td>77.58</td>\n",
       "      <td>386.1</td>\n",
       "      <td>0.14250</td>\n",
       "      <td>0.28390</td>\n",
       "      <td>0.2414</td>\n",
       "      <td>0.10520</td>\n",
       "      <td>...</td>\n",
       "      <td>14.91</td>\n",
       "      <td>26.50</td>\n",
       "      <td>98.87</td>\n",
       "      <td>567.7</td>\n",
       "      <td>0.2098</td>\n",
       "      <td>0.8663</td>\n",
       "      <td>0.6869</td>\n",
       "      <td>0.2575</td>\n",
       "      <td>0.6638</td>\n",
       "      <td>0.17300</td>\n",
       "    </tr>\n",
       "    <tr>\n",
       "      <th>4</th>\n",
       "      <td>84358402</td>\n",
       "      <td>M</td>\n",
       "      <td>20.29</td>\n",
       "      <td>14.34</td>\n",
       "      <td>135.10</td>\n",
       "      <td>1297.0</td>\n",
       "      <td>0.10030</td>\n",
       "      <td>0.13280</td>\n",
       "      <td>0.1980</td>\n",
       "      <td>0.10430</td>\n",
       "      <td>...</td>\n",
       "      <td>22.54</td>\n",
       "      <td>16.67</td>\n",
       "      <td>152.20</td>\n",
       "      <td>1575.0</td>\n",
       "      <td>0.1374</td>\n",
       "      <td>0.2050</td>\n",
       "      <td>0.4000</td>\n",
       "      <td>0.1625</td>\n",
       "      <td>0.2364</td>\n",
       "      <td>0.07678</td>\n",
       "    </tr>\n",
       "  </tbody>\n",
       "</table>\n",
       "<p>5 rows × 32 columns</p>\n",
       "</div>"
      ],
      "text/plain": [
       "         ID Result  Mean_Radius  Mean_Texture  Mean_Perimeter  Mean_Area  \\\n",
       "0    842302      M        17.99         10.38          122.80     1001.0   \n",
       "1    842517      M        20.57         17.77          132.90     1326.0   \n",
       "2  84300903      M        19.69         21.25          130.00     1203.0   \n",
       "3  84348301      M        11.42         20.38           77.58      386.1   \n",
       "4  84358402      M        20.29         14.34          135.10     1297.0   \n",
       "\n",
       "   Mean_Smoothness  Mean_Compactness  Mean_Concavity  Mean_ConcavePoints  \\\n",
       "0          0.11840           0.27760          0.3001             0.14710   \n",
       "1          0.08474           0.07864          0.0869             0.07017   \n",
       "2          0.10960           0.15990          0.1974             0.12790   \n",
       "3          0.14250           0.28390          0.2414             0.10520   \n",
       "4          0.10030           0.13280          0.1980             0.10430   \n",
       "\n",
       "            ...            Worst_Radius  Worst_Texture  Worst_Perimeter  \\\n",
       "0           ...                   25.38          17.33           184.60   \n",
       "1           ...                   24.99          23.41           158.80   \n",
       "2           ...                   23.57          25.53           152.50   \n",
       "3           ...                   14.91          26.50            98.87   \n",
       "4           ...                   22.54          16.67           152.20   \n",
       "\n",
       "   Worst_Area  Worst_Smoothness  Worst_Compactness  Worst_Concavity  \\\n",
       "0      2019.0            0.1622             0.6656           0.7119   \n",
       "1      1956.0            0.1238             0.1866           0.2416   \n",
       "2      1709.0            0.1444             0.4245           0.4504   \n",
       "3       567.7            0.2098             0.8663           0.6869   \n",
       "4      1575.0            0.1374             0.2050           0.4000   \n",
       "\n",
       "   Worst_ConcavePoints  Worst_Symmetry  Worst_FractalDimension  \n",
       "0               0.2654          0.4601                 0.11890  \n",
       "1               0.1860          0.2750                 0.08902  \n",
       "2               0.2430          0.3613                 0.08758  \n",
       "3               0.2575          0.6638                 0.17300  \n",
       "4               0.1625          0.2364                 0.07678  \n",
       "\n",
       "[5 rows x 32 columns]"
      ]
     },
     "execution_count": 15,
     "metadata": {},
     "output_type": "execute_result"
    }
   ],
   "source": [
    "data.head()"
   ]
  },
  {
   "cell_type": "markdown",
   "metadata": {},
   "source": [
    "Let's remove the ID Variable as we don't want to feed ID in as a parameter to our KNN"
   ]
  },
  {
   "cell_type": "code",
   "execution_count": 18,
   "metadata": {},
   "outputs": [],
   "source": [
    "Data_noId = data.drop('ID', axis=1)"
   ]
  },
  {
   "cell_type": "markdown",
   "metadata": {},
   "source": [
    "Next we need to suffle and normalise the data to ensure that the model is not trained on data that is sorted into catagories and that the data can fit on teh same scale."
   ]
  },
  {
   "cell_type": "code",
   "execution_count": 78,
   "metadata": {},
   "outputs": [],
   "source": [
    "shuff_data = Data_noId.sample(frac=1)\n",
    "scaler = StandardScaler()\n",
    "scaler.fit(shuff_data.drop('Result', axis=1))\n",
    "normalised_features = scaler.transform(shuff_data.drop('Result', axis=1))"
   ]
  },
  {
   "cell_type": "code",
   "execution_count": 79,
   "metadata": {},
   "outputs": [],
   "source": [
    "model_data = pd.DataFrame(normalised_features, columns=column_headings[2:])"
   ]
  },
  {
   "cell_type": "code",
   "execution_count": 80,
   "metadata": {},
   "outputs": [
    {
     "data": {
      "text/html": [
       "<div>\n",
       "<style scoped>\n",
       "    .dataframe tbody tr th:only-of-type {\n",
       "        vertical-align: middle;\n",
       "    }\n",
       "\n",
       "    .dataframe tbody tr th {\n",
       "        vertical-align: top;\n",
       "    }\n",
       "\n",
       "    .dataframe thead th {\n",
       "        text-align: right;\n",
       "    }\n",
       "</style>\n",
       "<table border=\"1\" class=\"dataframe\">\n",
       "  <thead>\n",
       "    <tr style=\"text-align: right;\">\n",
       "      <th></th>\n",
       "      <th>Mean_Radius</th>\n",
       "      <th>Mean_Texture</th>\n",
       "      <th>Mean_Perimeter</th>\n",
       "      <th>Mean_Area</th>\n",
       "      <th>Mean_Smoothness</th>\n",
       "      <th>Mean_Compactness</th>\n",
       "      <th>Mean_Concavity</th>\n",
       "      <th>Mean_ConcavePoints</th>\n",
       "      <th>Mean_Symmetry</th>\n",
       "      <th>Mean_FractalDimension</th>\n",
       "      <th>...</th>\n",
       "      <th>Worst_Radius</th>\n",
       "      <th>Worst_Texture</th>\n",
       "      <th>Worst_Perimeter</th>\n",
       "      <th>Worst_Area</th>\n",
       "      <th>Worst_Smoothness</th>\n",
       "      <th>Worst_Compactness</th>\n",
       "      <th>Worst_Concavity</th>\n",
       "      <th>Worst_ConcavePoints</th>\n",
       "      <th>Worst_Symmetry</th>\n",
       "      <th>Worst_FractalDimension</th>\n",
       "    </tr>\n",
       "  </thead>\n",
       "  <tbody>\n",
       "    <tr>\n",
       "      <th>0</th>\n",
       "      <td>-0.544538</td>\n",
       "      <td>-1.209993</td>\n",
       "      <td>-0.543259</td>\n",
       "      <td>-0.548596</td>\n",
       "      <td>-1.087428</td>\n",
       "      <td>-0.494842</td>\n",
       "      <td>-0.256238</td>\n",
       "      <td>-0.608200</td>\n",
       "      <td>-0.604664</td>\n",
       "      <td>-0.178279</td>\n",
       "      <td>...</td>\n",
       "      <td>-0.650071</td>\n",
       "      <td>-1.040120</td>\n",
       "      <td>-0.584136</td>\n",
       "      <td>-0.616470</td>\n",
       "      <td>-1.304933</td>\n",
       "      <td>-0.071025</td>\n",
       "      <td>0.169888</td>\n",
       "      <td>-0.353352</td>\n",
       "      <td>-0.361988</td>\n",
       "      <td>0.237966</td>\n",
       "    </tr>\n",
       "    <tr>\n",
       "      <th>1</th>\n",
       "      <td>-0.118517</td>\n",
       "      <td>0.358450</td>\n",
       "      <td>-0.072867</td>\n",
       "      <td>-0.218965</td>\n",
       "      <td>1.604049</td>\n",
       "      <td>1.140102</td>\n",
       "      <td>0.061026</td>\n",
       "      <td>0.281950</td>\n",
       "      <td>1.403355</td>\n",
       "      <td>1.660353</td>\n",
       "      <td>...</td>\n",
       "      <td>0.163763</td>\n",
       "      <td>0.401048</td>\n",
       "      <td>0.099449</td>\n",
       "      <td>0.028859</td>\n",
       "      <td>1.447961</td>\n",
       "      <td>0.724786</td>\n",
       "      <td>-0.021054</td>\n",
       "      <td>0.624196</td>\n",
       "      <td>0.477640</td>\n",
       "      <td>1.726435</td>\n",
       "    </tr>\n",
       "    <tr>\n",
       "      <th>2</th>\n",
       "      <td>-0.277565</td>\n",
       "      <td>-0.919110</td>\n",
       "      <td>-0.274287</td>\n",
       "      <td>-0.329885</td>\n",
       "      <td>-0.179357</td>\n",
       "      <td>-0.366919</td>\n",
       "      <td>0.051861</td>\n",
       "      <td>-0.363415</td>\n",
       "      <td>0.037902</td>\n",
       "      <td>-0.103146</td>\n",
       "      <td>...</td>\n",
       "      <td>-0.310456</td>\n",
       "      <td>-0.843079</td>\n",
       "      <td>-0.285682</td>\n",
       "      <td>-0.357354</td>\n",
       "      <td>0.676449</td>\n",
       "      <td>-0.182350</td>\n",
       "      <td>0.137744</td>\n",
       "      <td>-0.264733</td>\n",
       "      <td>1.534051</td>\n",
       "      <td>0.132121</td>\n",
       "    </tr>\n",
       "    <tr>\n",
       "      <th>3</th>\n",
       "      <td>-0.754709</td>\n",
       "      <td>-0.758542</td>\n",
       "      <td>-0.780514</td>\n",
       "      <td>-0.717252</td>\n",
       "      <td>-0.398546</td>\n",
       "      <td>-0.861932</td>\n",
       "      <td>-0.790076</td>\n",
       "      <td>-0.662883</td>\n",
       "      <td>-0.648476</td>\n",
       "      <td>0.130758</td>\n",
       "      <td>...</td>\n",
       "      <td>-0.778463</td>\n",
       "      <td>-0.795854</td>\n",
       "      <td>-0.821827</td>\n",
       "      <td>-0.711573</td>\n",
       "      <td>0.908780</td>\n",
       "      <td>-0.905004</td>\n",
       "      <td>-0.834570</td>\n",
       "      <td>-0.748025</td>\n",
       "      <td>-0.080494</td>\n",
       "      <td>0.204162</td>\n",
       "    </tr>\n",
       "    <tr>\n",
       "      <th>4</th>\n",
       "      <td>0.602879</td>\n",
       "      <td>0.051277</td>\n",
       "      <td>0.734461</td>\n",
       "      <td>0.457647</td>\n",
       "      <td>0.444052</td>\n",
       "      <td>1.610099</td>\n",
       "      <td>1.692419</td>\n",
       "      <td>1.109679</td>\n",
       "      <td>1.239062</td>\n",
       "      <td>0.422785</td>\n",
       "      <td>...</td>\n",
       "      <td>0.232100</td>\n",
       "      <td>-0.427827</td>\n",
       "      <td>0.441986</td>\n",
       "      <td>0.103922</td>\n",
       "      <td>0.233707</td>\n",
       "      <td>1.220974</td>\n",
       "      <td>1.523269</td>\n",
       "      <td>0.957658</td>\n",
       "      <td>0.675010</td>\n",
       "      <td>0.410863</td>\n",
       "    </tr>\n",
       "  </tbody>\n",
       "</table>\n",
       "<p>5 rows × 30 columns</p>\n",
       "</div>"
      ],
      "text/plain": [
       "   Mean_Radius  Mean_Texture  Mean_Perimeter  Mean_Area  Mean_Smoothness  \\\n",
       "0    -0.544538     -1.209993       -0.543259  -0.548596        -1.087428   \n",
       "1    -0.118517      0.358450       -0.072867  -0.218965         1.604049   \n",
       "2    -0.277565     -0.919110       -0.274287  -0.329885        -0.179357   \n",
       "3    -0.754709     -0.758542       -0.780514  -0.717252        -0.398546   \n",
       "4     0.602879      0.051277        0.734461   0.457647         0.444052   \n",
       "\n",
       "   Mean_Compactness  Mean_Concavity  Mean_ConcavePoints  Mean_Symmetry  \\\n",
       "0         -0.494842       -0.256238           -0.608200      -0.604664   \n",
       "1          1.140102        0.061026            0.281950       1.403355   \n",
       "2         -0.366919        0.051861           -0.363415       0.037902   \n",
       "3         -0.861932       -0.790076           -0.662883      -0.648476   \n",
       "4          1.610099        1.692419            1.109679       1.239062   \n",
       "\n",
       "   Mean_FractalDimension           ...            Worst_Radius  Worst_Texture  \\\n",
       "0              -0.178279           ...               -0.650071      -1.040120   \n",
       "1               1.660353           ...                0.163763       0.401048   \n",
       "2              -0.103146           ...               -0.310456      -0.843079   \n",
       "3               0.130758           ...               -0.778463      -0.795854   \n",
       "4               0.422785           ...                0.232100      -0.427827   \n",
       "\n",
       "   Worst_Perimeter  Worst_Area  Worst_Smoothness  Worst_Compactness  \\\n",
       "0        -0.584136   -0.616470         -1.304933          -0.071025   \n",
       "1         0.099449    0.028859          1.447961           0.724786   \n",
       "2        -0.285682   -0.357354          0.676449          -0.182350   \n",
       "3        -0.821827   -0.711573          0.908780          -0.905004   \n",
       "4         0.441986    0.103922          0.233707           1.220974   \n",
       "\n",
       "   Worst_Concavity  Worst_ConcavePoints  Worst_Symmetry  \\\n",
       "0         0.169888            -0.353352       -0.361988   \n",
       "1        -0.021054             0.624196        0.477640   \n",
       "2         0.137744            -0.264733        1.534051   \n",
       "3        -0.834570            -0.748025       -0.080494   \n",
       "4         1.523269             0.957658        0.675010   \n",
       "\n",
       "   Worst_FractalDimension  \n",
       "0                0.237966  \n",
       "1                1.726435  \n",
       "2                0.132121  \n",
       "3                0.204162  \n",
       "4                0.410863  \n",
       "\n",
       "[5 rows x 30 columns]"
      ]
     },
     "execution_count": 80,
     "metadata": {},
     "output_type": "execute_result"
    }
   ],
   "source": [
    "model_data.head()"
   ]
  },
  {
   "cell_type": "code",
   "execution_count": null,
   "metadata": {},
   "outputs": [],
   "source": []
  },
  {
   "cell_type": "markdown",
   "metadata": {},
   "source": [
    "Now our data is clean and normalised we can select and train our model"
   ]
  },
  {
   "cell_type": "code",
   "execution_count": 81,
   "metadata": {},
   "outputs": [],
   "source": [
    "from sklearn.neighbors import KNeighborsClassifier"
   ]
  },
  {
   "cell_type": "code",
   "execution_count": 82,
   "metadata": {},
   "outputs": [],
   "source": [
    "knn_model = KNeighborsClassifier(n_neighbors=1)"
   ]
  },
  {
   "cell_type": "code",
   "execution_count": 83,
   "metadata": {},
   "outputs": [],
   "source": [
    "results = shuff_data['Result']"
   ]
  },
  {
   "cell_type": "markdown",
   "metadata": {},
   "source": [
    "Lets split the data into a training set and a test set to evaluate our model performance"
   ]
  },
  {
   "cell_type": "code",
   "execution_count": 84,
   "metadata": {},
   "outputs": [],
   "source": [
    "from sklearn.model_selection import train_test_split\n",
    "\n",
    "x_train,x_test,y_train,y_test = train_test_split(model_data,results, test_size = 0.3)"
   ]
  },
  {
   "cell_type": "code",
   "execution_count": 85,
   "metadata": {},
   "outputs": [
    {
     "data": {
      "text/plain": [
       "KNeighborsClassifier(algorithm='auto', leaf_size=30, metric='minkowski',\n",
       "           metric_params=None, n_jobs=1, n_neighbors=1, p=2,\n",
       "           weights='uniform')"
      ]
     },
     "execution_count": 85,
     "metadata": {},
     "output_type": "execute_result"
    }
   ],
   "source": [
    "knn_model.fit(x_train,y_train)\n"
   ]
  },
  {
   "cell_type": "code",
   "execution_count": 86,
   "metadata": {},
   "outputs": [],
   "source": [
    "predictions = knn_model.predict(x_test)"
   ]
  },
  {
   "cell_type": "code",
   "execution_count": 87,
   "metadata": {},
   "outputs": [],
   "source": [
    "from sklearn.metrics import classification_report,confusion_matrix"
   ]
  },
  {
   "cell_type": "code",
   "execution_count": 88,
   "metadata": {},
   "outputs": [
    {
     "name": "stdout",
     "output_type": "stream",
     "text": [
      "[[100   0]\n",
      " [  7  64]]\n"
     ]
    }
   ],
   "source": [
    "print(confusion_matrix(y_test,predictions,labels=['B','M']))"
   ]
  },
  {
   "cell_type": "code",
   "execution_count": 89,
   "metadata": {},
   "outputs": [
    {
     "name": "stdout",
     "output_type": "stream",
     "text": [
      "             precision    recall  f1-score   support\n",
      "\n",
      "          B       0.93      1.00      0.97       100\n",
      "          M       1.00      0.90      0.95        71\n",
      "\n",
      "avg / total       0.96      0.96      0.96       171\n",
      "\n"
     ]
    }
   ],
   "source": [
    "print(classification_report(y_test,predictions))"
   ]
  },
  {
   "cell_type": "markdown",
   "metadata": {},
   "source": [
    "we got an accuracy of 96%! lets try improve this by optimising k values"
   ]
  },
  {
   "cell_type": "code",
   "execution_count": 90,
   "metadata": {},
   "outputs": [
    {
     "data": {
      "image/png": "[encoded data removed]",
      "text/plain": [
       "<Figure size 720x432 with 1 Axes>"
      ]
     },
     "metadata": {},
     "output_type": "display_data"
    }
   ],
   "source": [
    "error_rate = []\n",
    "\n",
    "for i in range (1,30):\n",
    "\n",
    "      knn = KNeighborsClassifier(n_neighbors=i)\n",
    "      knn.fit(x_train,y_train)\n",
    "      pred_i = knn.predict(x_test)\n",
    "      error_rate.append(np.mean(pred_i != y_test))\n",
    "\n",
    "\n",
    "plt.figure(figsize=(10,6))\n",
    "plt.plot(range(1,30),error_rate,color='blue', linestyle='dashed', marker='o',\n",
    "         markerfacecolor='red', markersize=10)\n",
    "plt.title('Error Rate vs. K Value')\n",
    "plt.xlabel('K')\n",
    "plt.ylabel('Error Rate')\n",
    "plt.show()\n"
   ]
  },
  {
   "cell_type": "code",
   "execution_count": 93,
   "metadata": {},
   "outputs": [],
   "source": [
    "new_model = KNeighborsClassifier(n_neighbors=5)\n",
    "knn.fit(x_train,y_train)\n",
    "pred = knn.predict(x_test)\n",
    "\n"
   ]
  },
  {
   "cell_type": "code",
   "execution_count": 95,
   "metadata": {},
   "outputs": [
    {
     "name": "stdout",
     "output_type": "stream",
     "text": [
      "             precision    recall  f1-score   support\n",
      "\n",
      "          B       0.90      1.00      0.95       100\n",
      "          M       1.00      0.85      0.92        71\n",
      "\n",
      "avg / total       0.94      0.94      0.93       171\n",
      "\n"
     ]
    }
   ],
   "source": [
    "print(classification_report(y_test,pred))"
   ]
  },
  {
   "cell_type": "markdown",
   "metadata": {},
   "source": [
    "63% with an optimal K value of 12. Still not fantastic but we did not do any EDA or feature engineering so this can be optimized a lot more!"
   ]
  },
  {
   "cell_type": "code",
   "execution_count": 96,
   "metadata": {},
   "outputs": [
    {
     "name": "stdout",
     "output_type": "stream",
     "text": [
      "[[100   0]\n",
      " [ 11  60]]\n"
     ]
    }
   ],
   "source": [
    "print(confusion_matrix(y_test,pred))"
   ]
  },
  {
   "cell_type": "code",
   "execution_count": null,
   "metadata": {},
   "outputs": [],
   "source": []
  }
 ],
 "metadata": {
  "kernelspec": {
   "display_name": "Python 3",
   "language": "python",
   "name": "python3"
  },
  "language_info": {
   "codemirror_mode": {
    "name": "ipython",
    "version": 3
   },
   "file_extension": ".py",
   "mimetype": "text/x-python",
   "name": "python",
   "nbconvert_exporter": "python",
   "pygments_lexer": "ipython3",
   "version": "3.6.5"
  }
 },
 "nbformat": 4,
 "nbformat_minor": 2
}
