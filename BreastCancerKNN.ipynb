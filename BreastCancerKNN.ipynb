{
 "cells": [
  {
   "cell_type": "markdown",
   "metadata": {},
   "source": [
    "KNN BREAST CANCER DIAGNOSIS "
   ]
  },
  {
   "cell_type": "code",
   "execution_count": 1,
   "metadata": {},
   "outputs": [],
   "source": [
    "import pandas as pd\n",
    "import numpy as np \n",
    "from sklearn.preprocessing import StandardScaler\n",
    "import seaborn as sns \n",
    "import matplotlib.pyplot as plt "
   ]
  },
  {
   "cell_type": "markdown",
   "metadata": {},
   "source": [
    "#Step 1 - Read data "
   ]
  },
  {
   "cell_type": "code",
   "execution_count": 14,
   "metadata": {},
   "outputs": [],
   "source": [
    "column_headings = [\"ID\",\"Result\",\"Mean_Radius\",\"Mean_Texture\",\"Mean_Perimeter\",                    #setting the names of all the columns \n",
    "                   \"Mean_Area\",\"Mean_Smoothness\",\"Mean_Compactness\", \"Mean_Concavity\",\n",
    "                   \"Mean_ConcavePoints\", \"Mean_Symmetry\",\"Mean_FractalDimension\",\n",
    "                   \"SE_Radius\",\"SE_Texture\",\"SE_Perimeter\",\"SE_Area\",\"SE_Smoothness\",\n",
    "                   \"SE_Compactness\",\"SE_Concavity\",\"SE_ConcavePoints\",\"SE_Symmetry\",\n",
    "                   \"SE_FractalDimension\",\"Worst_Radius\",\"Worst_Texture\",\"Worst_Perimeter\",\n",
    "                   \"Worst_Area\",\"Worst_Smoothness\",\"Worst_Compactness\",\"Worst_Concavity\",\n",
    "                   \"Worst_ConcavePoints\",\"Worst_Symmetry\",\"Worst_FractalDimension\"]\n",
    "\n",
    "\n",
    "data = pd.read_table('wdbc.data.txt', sep=\",\", names=column_headings)"
   ]
  },
  {
   "cell_type": "code",
   "execution_count": 15,
   "metadata": {},
   "outputs": [
    {
     "data": {
      "text/html": [
       "<div>\n",
       "<style scoped>\n",
       "    .dataframe tbody tr th:only-of-type {\n",
       "        vertical-align: middle;\n",
       "    }\n",
       "\n",
       "    .dataframe tbody tr th {\n",
       "        vertical-align: top;\n",
       "    }\n",
       "\n",
       "    .dataframe thead th {\n",
       "        text-align: right;\n",
       "    }\n",
       "</style>\n",
       "<table border=\"1\" class=\"dataframe\">\n",
       "  <thead>\n",
       "    <tr style=\"text-align: right;\">\n",
       "      <th></th>\n",
       "      <th>ID</th>\n",
       "      <th>Result</th>\n",
       "      <th>Mean_Radius</th>\n",
       "      <th>Mean_Texture</th>\n",
       "      <th>Mean_Perimeter</th>\n",
       "      <th>Mean_Area</th>\n",
       "      <th>Mean_Smoothness</th>\n",
       "      <th>Mean_Compactness</th>\n",
       "      <th>Mean_Concavity</th>\n",
       "      <th>Mean_ConcavePoints</th>\n",
       "      <th>...</th>\n",
       "      <th>Worst_Radius</th>\n",
       "      <th>Worst_Texture</th>\n",
       "      <th>Worst_Perimeter</th>\n",
       "      <th>Worst_Area</th>\n",
       "      <th>Worst_Smoothness</th>\n",
       "      <th>Worst_Compactness</th>\n",
       "      <th>Worst_Concavity</th>\n",
       "      <th>Worst_ConcavePoints</th>\n",
       "      <th>Worst_Symmetry</th>\n",
       "      <th>Worst_FractalDimension</th>\n",
       "    </tr>\n",
       "  </thead>\n",
       "  <tbody>\n",
       "    <tr>\n",
       "      <th>0</th>\n",
       "      <td>842302</td>\n",
       "      <td>M</td>\n",
       "      <td>17.99</td>\n",
       "      <td>10.38</td>\n",
       "      <td>122.80</td>\n",
       "      <td>1001.0</td>\n",
       "      <td>0.11840</td>\n",
       "      <td>0.27760</td>\n",
       "      <td>0.3001</td>\n",
       "      <td>0.14710</td>\n",
       "      <td>...</td>\n",
       "      <td>25.38</td>\n",
       "      <td>17.33</td>\n",
       "      <td>184.60</td>\n",
       "      <td>2019.0</td>\n",
       "      <td>0.1622</td>\n",
       "      <td>0.6656</td>\n",
       "      <td>0.7119</td>\n",
       "      <td>0.2654</td>\n",
       "      <td>0.4601</td>\n",
       "      <td>0.11890</td>\n",
       "    </tr>\n",
       "    <tr>\n",
       "      <th>1</th>\n",
       "      <td>842517</td>\n",
       "      <td>M</td>\n",
       "      <td>20.57</td>\n",
       "      <td>17.77</td>\n",
       "      <td>132.90</td>\n",
       "      <td>1326.0</td>\n",
       "      <td>0.08474</td>\n",
       "      <td>0.07864</td>\n",
       "      <td>0.0869</td>\n",
       "      <td>0.07017</td>\n",
       "      <td>...</td>\n",
       "      <td>24.99</td>\n",
       "      <td>23.41</td>\n",
       "      <td>158.80</td>\n",
       "      <td>1956.0</td>\n",
       "      <td>0.1238</td>\n",
       "      <td>0.1866</td>\n",
       "      <td>0.2416</td>\n",
       "      <td>0.1860</td>\n",
       "      <td>0.2750</td>\n",
       "      <td>0.08902</td>\n",
       "    </tr>\n",
       "    <tr>\n",
       "      <th>2</th>\n",
       "      <td>84300903</td>\n",
       "      <td>M</td>\n",
       "      <td>19.69</td>\n",
       "      <td>21.25</td>\n",
       "      <td>130.00</td>\n",
       "      <td>1203.0</td>\n",
       "      <td>0.10960</td>\n",
       "      <td>0.15990</td>\n",
       "      <td>0.1974</td>\n",
       "      <td>0.12790</td>\n",
       "      <td>...</td>\n",
       "      <td>23.57</td>\n",
       "      <td>25.53</td>\n",
       "      <td>152.50</td>\n",
       "      <td>1709.0</td>\n",
       "      <td>0.1444</td>\n",
       "      <td>0.4245</td>\n",
       "      <td>0.4504</td>\n",
       "      <td>0.2430</td>\n",
       "      <td>0.3613</td>\n",
       "      <td>0.08758</td>\n",
       "    </tr>\n",
       "    <tr>\n",
       "      <th>3</th>\n",
       "      <td>84348301</td>\n",
       "      <td>M</td>\n",
       "      <td>11.42</td>\n",
       "      <td>20.38</td>\n",
       "      <td>77.58</td>\n",
       "      <td>386.1</td>\n",
       "      <td>0.14250</td>\n",
       "      <td>0.28390</td>\n",
       "      <td>0.2414</td>\n",
       "      <td>0.10520</td>\n",
       "      <td>...</td>\n",
       "      <td>14.91</td>\n",
       "      <td>26.50</td>\n",
       "      <td>98.87</td>\n",
       "      <td>567.7</td>\n",
       "      <td>0.2098</td>\n",
       "      <td>0.8663</td>\n",
       "      <td>0.6869</td>\n",
       "      <td>0.2575</td>\n",
       "      <td>0.6638</td>\n",
       "      <td>0.17300</td>\n",
       "    </tr>\n",
       "    <tr>\n",
       "      <th>4</th>\n",
       "      <td>84358402</td>\n",
       "      <td>M</td>\n",
       "      <td>20.29</td>\n",
       "      <td>14.34</td>\n",
       "      <td>135.10</td>\n",
       "      <td>1297.0</td>\n",
       "      <td>0.10030</td>\n",
       "      <td>0.13280</td>\n",
       "      <td>0.1980</td>\n",
       "      <td>0.10430</td>\n",
       "      <td>...</td>\n",
       "      <td>22.54</td>\n",
       "      <td>16.67</td>\n",
       "      <td>152.20</td>\n",
       "      <td>1575.0</td>\n",
       "      <td>0.1374</td>\n",
       "      <td>0.2050</td>\n",
       "      <td>0.4000</td>\n",
       "      <td>0.1625</td>\n",
       "      <td>0.2364</td>\n",
       "      <td>0.07678</td>\n",
       "    </tr>\n",
       "  </tbody>\n",
       "</table>\n",
       "<p>5 rows × 32 columns</p>\n",
       "</div>"
      ],
      "text/plain": [
       "         ID Result  Mean_Radius  Mean_Texture  Mean_Perimeter  Mean_Area  \\\n",
       "0    842302      M        17.99         10.38          122.80     1001.0   \n",
       "1    842517      M        20.57         17.77          132.90     1326.0   \n",
       "2  84300903      M        19.69         21.25          130.00     1203.0   \n",
       "3  84348301      M        11.42         20.38           77.58      386.1   \n",
       "4  84358402      M        20.29         14.34          135.10     1297.0   \n",
       "\n",
       "   Mean_Smoothness  Mean_Compactness  Mean_Concavity  Mean_ConcavePoints  \\\n",
       "0          0.11840           0.27760          0.3001             0.14710   \n",
       "1          0.08474           0.07864          0.0869             0.07017   \n",
       "2          0.10960           0.15990          0.1974             0.12790   \n",
       "3          0.14250           0.28390          0.2414             0.10520   \n",
       "4          0.10030           0.13280          0.1980             0.10430   \n",
       "\n",
       "            ...            Worst_Radius  Worst_Texture  Worst_Perimeter  \\\n",
       "0           ...                   25.38          17.33           184.60   \n",
       "1           ...                   24.99          23.41           158.80   \n",
       "2           ...                   23.57          25.53           152.50   \n",
       "3           ...                   14.91          26.50            98.87   \n",
       "4           ...                   22.54          16.67           152.20   \n",
       "\n",
       "   Worst_Area  Worst_Smoothness  Worst_Compactness  Worst_Concavity  \\\n",
       "0      2019.0            0.1622             0.6656           0.7119   \n",
       "1      1956.0            0.1238             0.1866           0.2416   \n",
       "2      1709.0            0.1444             0.4245           0.4504   \n",
       "3       567.7            0.2098             0.8663           0.6869   \n",
       "4      1575.0            0.1374             0.2050           0.4000   \n",
       "\n",
       "   Worst_ConcavePoints  Worst_Symmetry  Worst_FractalDimension  \n",
       "0               0.2654          0.4601                 0.11890  \n",
       "1               0.1860          0.2750                 0.08902  \n",
       "2               0.2430          0.3613                 0.08758  \n",
       "3               0.2575          0.6638                 0.17300  \n",
       "4               0.1625          0.2364                 0.07678  \n",
       "\n",
       "[5 rows x 32 columns]"
      ]
     },
     "execution_count": 15,
     "metadata": {},
     "output_type": "execute_result"
    }
   ],
   "source": [
    "data.head()"
   ]
  },
  {
   "cell_type": "markdown",
   "metadata": {},
   "source": [
    "Let's remove the ID Variable as we don't want to feed ID in as a parameter to our KNN"
   ]
  },
  {
   "cell_type": "code",
   "execution_count": 18,
   "metadata": {},
   "outputs": [],
   "source": [
    "Data_noId = data.drop('ID', axis=1)"
   ]
  },
  {
   "cell_type": "markdown",
   "metadata": {},
   "source": [
    "Next we need to suffle and normalise the data to ensure that the model is not trained on data that is sorted into catagories and that the data can fit on teh same scale."
   ]
  },
  {
   "cell_type": "code",
   "execution_count": 26,
   "metadata": {},
   "outputs": [],
   "source": [
    "scaler = StandardScaler()\n",
    "data_suff_norm = scaler.fit(Data_noId.sample(frac=1).drop('Result', axis=1))\n",
    "normalised_features = scaler.transform(Data_noId.sample(frac=1).drop('Result', axis=1))"
   ]
  },
  {
   "cell_type": "code",
   "execution_count": 28,
   "metadata": {},
   "outputs": [],
   "source": [
    "model_data = pd.DataFrame(normalised_features, columns=column_headings[2:])"
   ]
  },
  {
   "cell_type": "code",
   "execution_count": 30,
   "metadata": {},
   "outputs": [
    {
     "data": {
      "text/html": [
       "<div>\n",
       "<style scoped>\n",
       "    .dataframe tbody tr th:only-of-type {\n",
       "        vertical-align: middle;\n",
       "    }\n",
       "\n",
       "    .dataframe tbody tr th {\n",
       "        vertical-align: top;\n",
       "    }\n",
       "\n",
       "    .dataframe thead th {\n",
       "        text-align: right;\n",
       "    }\n",
       "</style>\n",
       "<table border=\"1\" class=\"dataframe\">\n",
       "  <thead>\n",
       "    <tr style=\"text-align: right;\">\n",
       "      <th></th>\n",
       "      <th>Mean_Radius</th>\n",
       "      <th>Mean_Texture</th>\n",
       "      <th>Mean_Perimeter</th>\n",
       "      <th>Mean_Area</th>\n",
       "      <th>Mean_Smoothness</th>\n",
       "      <th>Mean_Compactness</th>\n",
       "      <th>Mean_Concavity</th>\n",
       "      <th>Mean_ConcavePoints</th>\n",
       "      <th>Mean_Symmetry</th>\n",
       "      <th>Mean_FractalDimension</th>\n",
       "      <th>...</th>\n",
       "      <th>Worst_Radius</th>\n",
       "      <th>Worst_Texture</th>\n",
       "      <th>Worst_Perimeter</th>\n",
       "      <th>Worst_Area</th>\n",
       "      <th>Worst_Smoothness</th>\n",
       "      <th>Worst_Compactness</th>\n",
       "      <th>Worst_Concavity</th>\n",
       "      <th>Worst_ConcavePoints</th>\n",
       "      <th>Worst_Symmetry</th>\n",
       "      <th>Worst_FractalDimension</th>\n",
       "    </tr>\n",
       "  </thead>\n",
       "  <tbody>\n",
       "    <tr>\n",
       "      <th>0</th>\n",
       "      <td>0.469393</td>\n",
       "      <td>-0.325708</td>\n",
       "      <td>0.479082</td>\n",
       "      <td>0.358672</td>\n",
       "      <td>0.052642</td>\n",
       "      <td>0.471115</td>\n",
       "      <td>0.134849</td>\n",
       "      <td>0.442131</td>\n",
       "      <td>0.110921</td>\n",
       "      <td>-0.280347</td>\n",
       "      <td>...</td>\n",
       "      <td>0.859560</td>\n",
       "      <td>0.261002</td>\n",
       "      <td>0.870902</td>\n",
       "      <td>0.735540</td>\n",
       "      <td>0.316995</td>\n",
       "      <td>1.950627</td>\n",
       "      <td>0.596387</td>\n",
       "      <td>1.010951</td>\n",
       "      <td>1.441838</td>\n",
       "      <td>1.155652</td>\n",
       "    </tr>\n",
       "    <tr>\n",
       "      <th>1</th>\n",
       "      <td>-0.905236</td>\n",
       "      <td>-0.162813</td>\n",
       "      <td>-0.888845</td>\n",
       "      <td>-0.810254</td>\n",
       "      <td>0.287488</td>\n",
       "      <td>-0.563636</td>\n",
       "      <td>-0.494155</td>\n",
       "      <td>-0.505540</td>\n",
       "      <td>-1.188815</td>\n",
       "      <td>0.475236</td>\n",
       "      <td>...</td>\n",
       "      <td>-0.801242</td>\n",
       "      <td>-0.015832</td>\n",
       "      <td>-0.729789</td>\n",
       "      <td>-0.717550</td>\n",
       "      <td>0.172337</td>\n",
       "      <td>-0.571667</td>\n",
       "      <td>-0.628420</td>\n",
       "      <td>-0.544141</td>\n",
       "      <td>-1.051162</td>\n",
       "      <td>-0.367175</td>\n",
       "    </tr>\n",
       "    <tr>\n",
       "      <th>2</th>\n",
       "      <td>-0.766069</td>\n",
       "      <td>-0.907474</td>\n",
       "      <td>-0.778867</td>\n",
       "      <td>-0.725500</td>\n",
       "      <td>0.002115</td>\n",
       "      <td>-0.671849</td>\n",
       "      <td>-0.675072</td>\n",
       "      <td>-0.520243</td>\n",
       "      <td>-0.283381</td>\n",
       "      <td>-0.587967</td>\n",
       "      <td>...</td>\n",
       "      <td>-0.817808</td>\n",
       "      <td>-0.595556</td>\n",
       "      <td>-0.814083</td>\n",
       "      <td>-0.735833</td>\n",
       "      <td>-0.586024</td>\n",
       "      <td>-0.569123</td>\n",
       "      <td>-0.634657</td>\n",
       "      <td>-0.454456</td>\n",
       "      <td>-0.363605</td>\n",
       "      <td>-0.903046</td>\n",
       "    </tr>\n",
       "    <tr>\n",
       "      <th>3</th>\n",
       "      <td>1.835501</td>\n",
       "      <td>0.453860</td>\n",
       "      <td>1.887787</td>\n",
       "      <td>1.891644</td>\n",
       "      <td>0.863928</td>\n",
       "      <td>1.138207</td>\n",
       "      <td>1.632155</td>\n",
       "      <td>1.629686</td>\n",
       "      <td>0.132826</td>\n",
       "      <td>-0.081882</td>\n",
       "      <td>...</td>\n",
       "      <td>1.571924</td>\n",
       "      <td>0.827699</td>\n",
       "      <td>1.666184</td>\n",
       "      <td>1.545938</td>\n",
       "      <td>0.615079</td>\n",
       "      <td>0.670714</td>\n",
       "      <td>1.178807</td>\n",
       "      <td>1.472317</td>\n",
       "      <td>-0.680690</td>\n",
       "      <td>0.334943</td>\n",
       "    </tr>\n",
       "    <tr>\n",
       "      <th>4</th>\n",
       "      <td>1.162387</td>\n",
       "      <td>-0.137215</td>\n",
       "      <td>1.166958</td>\n",
       "      <td>1.075386</td>\n",
       "      <td>1.312271</td>\n",
       "      <td>0.836879</td>\n",
       "      <td>1.109868</td>\n",
       "      <td>1.472343</td>\n",
       "      <td>1.023657</td>\n",
       "      <td>0.042867</td>\n",
       "      <td>...</td>\n",
       "      <td>0.896835</td>\n",
       "      <td>-0.251956</td>\n",
       "      <td>0.829202</td>\n",
       "      <td>0.774214</td>\n",
       "      <td>-0.191501</td>\n",
       "      <td>-0.156268</td>\n",
       "      <td>-0.047440</td>\n",
       "      <td>0.272461</td>\n",
       "      <td>0.194529</td>\n",
       "      <td>-0.225865</td>\n",
       "    </tr>\n",
       "  </tbody>\n",
       "</table>\n",
       "<p>5 rows × 30 columns</p>\n",
       "</div>"
      ],
      "text/plain": [
       "   Mean_Radius  Mean_Texture  Mean_Perimeter  Mean_Area  Mean_Smoothness  \\\n",
       "0     0.469393     -0.325708        0.479082   0.358672         0.052642   \n",
       "1    -0.905236     -0.162813       -0.888845  -0.810254         0.287488   \n",
       "2    -0.766069     -0.907474       -0.778867  -0.725500         0.002115   \n",
       "3     1.835501      0.453860        1.887787   1.891644         0.863928   \n",
       "4     1.162387     -0.137215        1.166958   1.075386         1.312271   \n",
       "\n",
       "   Mean_Compactness  Mean_Concavity  Mean_ConcavePoints  Mean_Symmetry  \\\n",
       "0          0.471115        0.134849            0.442131       0.110921   \n",
       "1         -0.563636       -0.494155           -0.505540      -1.188815   \n",
       "2         -0.671849       -0.675072           -0.520243      -0.283381   \n",
       "3          1.138207        1.632155            1.629686       0.132826   \n",
       "4          0.836879        1.109868            1.472343       1.023657   \n",
       "\n",
       "   Mean_FractalDimension           ...            Worst_Radius  Worst_Texture  \\\n",
       "0              -0.280347           ...                0.859560       0.261002   \n",
       "1               0.475236           ...               -0.801242      -0.015832   \n",
       "2              -0.587967           ...               -0.817808      -0.595556   \n",
       "3              -0.081882           ...                1.571924       0.827699   \n",
       "4               0.042867           ...                0.896835      -0.251956   \n",
       "\n",
       "   Worst_Perimeter  Worst_Area  Worst_Smoothness  Worst_Compactness  \\\n",
       "0         0.870902    0.735540          0.316995           1.950627   \n",
       "1        -0.729789   -0.717550          0.172337          -0.571667   \n",
       "2        -0.814083   -0.735833         -0.586024          -0.569123   \n",
       "3         1.666184    1.545938          0.615079           0.670714   \n",
       "4         0.829202    0.774214         -0.191501          -0.156268   \n",
       "\n",
       "   Worst_Concavity  Worst_ConcavePoints  Worst_Symmetry  \\\n",
       "0         0.596387             1.010951        1.441838   \n",
       "1        -0.628420            -0.544141       -1.051162   \n",
       "2        -0.634657            -0.454456       -0.363605   \n",
       "3         1.178807             1.472317       -0.680690   \n",
       "4        -0.047440             0.272461        0.194529   \n",
       "\n",
       "   Worst_FractalDimension  \n",
       "0                1.155652  \n",
       "1               -0.367175  \n",
       "2               -0.903046  \n",
       "3                0.334943  \n",
       "4               -0.225865  \n",
       "\n",
       "[5 rows x 30 columns]"
      ]
     },
     "execution_count": 30,
     "metadata": {},
     "output_type": "execute_result"
    }
   ],
   "source": [
    "model_data.head()"
   ]
  },
  {
   "cell_type": "markdown",
   "metadata": {},
   "source": [
    "Now our data is clean and normalised we can select and train our model"
   ]
  },
  {
   "cell_type": "code",
   "execution_count": 31,
   "metadata": {},
   "outputs": [],
   "source": [
    "from sklearn.neighbors import KNeighborsClassifier"
   ]
  },
  {
   "cell_type": "code",
   "execution_count": 32,
   "metadata": {},
   "outputs": [],
   "source": [
    "knn_model = KNeighborsClassifier(n_neighbors=1)"
   ]
  },
  {
   "cell_type": "code",
   "execution_count": 45,
   "metadata": {},
   "outputs": [],
   "source": [
    "results = Data_noId.sample(frac=1)['Result']"
   ]
  },
  {
   "cell_type": "markdown",
   "metadata": {},
   "source": [
    "Lets split the data into a training set and a test set to evaluate our model performance"
   ]
  },
  {
   "cell_type": "code",
   "execution_count": 49,
   "metadata": {},
   "outputs": [],
   "source": [
    "from sklearn.model_selection import train_test_split\n",
    "\n",
    "x_train,x_test,y_train,y_test = train_test_split(model_data,results, test_size = 0.3)"
   ]
  },
  {
   "cell_type": "code",
   "execution_count": 50,
   "metadata": {},
   "outputs": [
    {
     "data": {
      "text/plain": [
       "KNeighborsClassifier(algorithm='auto', leaf_size=30, metric='minkowski',\n",
       "           metric_params=None, n_jobs=1, n_neighbors=1, p=2,\n",
       "           weights='uniform')"
      ]
     },
     "execution_count": 50,
     "metadata": {},
     "output_type": "execute_result"
    }
   ],
   "source": [
    "knn_model.fit(x_train,y_train)\n"
   ]
  },
  {
   "cell_type": "code",
   "execution_count": 51,
   "metadata": {},
   "outputs": [],
   "source": [
    "predictions = knn_model.predict(x_test)"
   ]
  },
  {
   "cell_type": "code",
   "execution_count": 52,
   "metadata": {},
   "outputs": [],
   "source": [
    "from sklearn.metrics import classification_report,confusion_matrix"
   ]
  },
  {
   "cell_type": "code",
   "execution_count": 58,
   "metadata": {},
   "outputs": [
    {
     "name": "stdout",
     "output_type": "stream",
     "text": [
      "[[60 53]\n",
      " [32 26]]\n"
     ]
    }
   ],
   "source": [
    "print(confusion_matrix(y_test,predictions,labels=['B','M']))"
   ]
  },
  {
   "cell_type": "code",
   "execution_count": 59,
   "metadata": {},
   "outputs": [
    {
     "name": "stdout",
     "output_type": "stream",
     "text": [
      "             precision    recall  f1-score   support\n",
      "\n",
      "          B       0.65      0.53      0.59       113\n",
      "          M       0.33      0.45      0.38        58\n",
      "\n",
      "avg / total       0.54      0.50      0.52       171\n",
      "\n"
     ]
    }
   ],
   "source": [
    "print(classification_report(y_test,predictions))"
   ]
  },
  {
   "cell_type": "markdown",
   "metadata": {},
   "source": [
    "we got am accuracy of 54% - not that great so lets try and optimise the K value "
   ]
  },
  {
   "cell_type": "code",
   "execution_count": 69,
   "metadata": {},
   "outputs": [
    {
     "data": {
      "image/png": "[encoded data removed]",
      "text/plain": [
       "<Figure size 720x432 with 1 Axes>"
      ]
     },
     "metadata": {},
     "output_type": "display_data"
    }
   ],
   "source": [
    "error_rate = []\n",
    "\n",
    "for i in range (1,30):\n",
    "\n",
    "      knn = KNeighborsClassifier(n_neighbors=i)\n",
    "      knn.fit(x_train,y_train)\n",
    "      pred_i = knn.predict(x_test)\n",
    "      error_rate.append(np.mean(pred_i != y_test))\n",
    "\n",
    "\n",
    "plt.figure(figsize=(10,6))\n",
    "plt.plot(range(1,30),error_rate,color='blue', linestyle='dashed', marker='o',\n",
    "         markerfacecolor='red', markersize=10)\n",
    "plt.title('Error Rate vs. K Value')\n",
    "plt.xlabel('K')\n",
    "plt.ylabel('Error Rate')\n",
    "plt.show()\n"
   ]
  },
  {
   "cell_type": "code",
   "execution_count": 70,
   "metadata": {},
   "outputs": [],
   "source": [
    "new_model = KNeighborsClassifier(n_neighbors=12)\n",
    "knn.fit(x_train,y_train)\n",
    "pred = knn.predict(x_test)\n",
    "\n"
   ]
  },
  {
   "cell_type": "code",
   "execution_count": 71,
   "metadata": {},
   "outputs": [
    {
     "name": "stdout",
     "output_type": "stream",
     "text": [
      "             precision    recall  f1-score   support\n",
      "\n",
      "          B       0.68      0.96      0.79       113\n",
      "          M       0.55      0.10      0.17        58\n",
      "\n",
      "avg / total       0.63      0.67      0.58       171\n",
      "\n"
     ]
    }
   ],
   "source": [
    "print(classification_report(y_test,pred))"
   ]
  },
  {
   "cell_type": "markdown",
   "metadata": {},
   "source": [
    "63% with an optimal K value of 12. Still not fantastic but we did not do any EDA or feature engineering so this can be optimized a lot more!"
   ]
  },
  {
   "cell_type": "code",
   "execution_count": null,
   "metadata": {},
   "outputs": [],
   "source": []
  }
 ],
 "metadata": {
  "kernelspec": {
   "display_name": "Python 3",
   "language": "python",
   "name": "python3"
  },
  "language_info": {
   "codemirror_mode": {
    "name": "ipython",
    "version": 3
   },
   "file_extension": ".py",
   "mimetype": "text/x-python",
   "name": "python",
   "nbconvert_exporter": "python",
   "pygments_lexer": "ipython3",
   "version": "3.6.5"
  }
 },
 "nbformat": 4,
 "nbformat_minor": 2
}
